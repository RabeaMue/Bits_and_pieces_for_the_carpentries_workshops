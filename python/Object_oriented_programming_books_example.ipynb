{
 "cells": [
  {
   "cell_type": "code",
   "execution_count": 33,
   "metadata": {},
   "outputs": [],
   "source": [
    "class Book():\n",
    "    \n",
    "    def __init__(self, title):\n",
    "        self.title = title\n",
    "        self.order_status = \"available\"\n",
    "        \n",
    "    def give_title(self):\n",
    "        print(f\"Book title: {self.title}\")\n",
    "        \n",
    "    def order_book(self):\n",
    "        if self.order_status == \"ordered\":\n",
    "            print(f\"Sorry, the book {self.title} is already ordered. \"\n",
    "                  \"Cannot order again.\")\n",
    "            return\n",
    "        self.order_status = \"ordered\"\n",
    "        print(f\"The book {self.title} is now ordered.\")\n",
    "        \n",
    "    def return_book(self):\n",
    "        self.order_status = \"available\"\n",
    "        \n",
    "    def give_status(self):\n",
    "        print(f\"The book {self.title} is currently {self.order_status}.\")"
   ]
  },
  {
   "cell_type": "code",
   "execution_count": 34,
   "metadata": {},
   "outputs": [
    {
     "name": "stdout",
     "output_type": "stream",
     "text": [
      "Book title: Biochemistry 101\n"
     ]
    }
   ],
   "source": [
    "book_1 = Book(\"Biochemistry 101\")\n",
    "book_1.give_title()"
   ]
  },
  {
   "cell_type": "code",
   "execution_count": 35,
   "metadata": {},
   "outputs": [
    {
     "name": "stdout",
     "output_type": "stream",
     "text": [
      "The book Biochemistry 101 is currently available.\n"
     ]
    }
   ],
   "source": [
    "book_1.give_status()"
   ]
  },
  {
   "cell_type": "code",
   "execution_count": 36,
   "metadata": {},
   "outputs": [
    {
     "name": "stdout",
     "output_type": "stream",
     "text": [
      "The book Biochemistry 101 is now ordered.\n"
     ]
    }
   ],
   "source": [
    "book_1.order_book()"
   ]
  },
  {
   "cell_type": "code",
   "execution_count": 37,
   "metadata": {},
   "outputs": [
    {
     "name": "stdout",
     "output_type": "stream",
     "text": [
      "The book Biochemistry 101 is currently ordered.\n"
     ]
    }
   ],
   "source": [
    "book_1.give_status()"
   ]
  },
  {
   "cell_type": "code",
   "execution_count": 38,
   "metadata": {},
   "outputs": [
    {
     "name": "stdout",
     "output_type": "stream",
     "text": [
      "Sorry, the book Biochemistry 101 is already ordered. Cannot order again.\n"
     ]
    }
   ],
   "source": [
    "book_1.order_book()"
   ]
  },
  {
   "cell_type": "code",
   "execution_count": 40,
   "metadata": {},
   "outputs": [],
   "source": [
    "book_1.return_book()"
   ]
  },
  {
   "cell_type": "code",
   "execution_count": 41,
   "metadata": {},
   "outputs": [
    {
     "name": "stdout",
     "output_type": "stream",
     "text": [
      "The book Biochemistry 101 is currently available.\n"
     ]
    }
   ],
   "source": [
    "book_1.give_status()"
   ]
  },
  {
   "cell_type": "code",
   "execution_count": 39,
   "metadata": {},
   "outputs": [],
   "source": [
    "book_2 = Book(\"Molecular Biology Methods\")"
   ]
  },
  {
   "cell_type": "code",
   "execution_count": 42,
   "metadata": {},
   "outputs": [
    {
     "name": "stdout",
     "output_type": "stream",
     "text": [
      "The book Molecular Biology Methods is now ordered.\n"
     ]
    }
   ],
   "source": [
    "book_2.order_book()"
   ]
  },
  {
   "cell_type": "code",
   "execution_count": null,
   "metadata": {},
   "outputs": [],
   "source": []
  }
 ],
 "metadata": {
  "kernelspec": {
   "display_name": "Python 3",
   "language": "python",
   "name": "python3"
  },
  "language_info": {
   "codemirror_mode": {
    "name": "ipython",
    "version": 3
   },
   "file_extension": ".py",
   "mimetype": "text/x-python",
   "name": "python",
   "nbconvert_exporter": "python",
   "pygments_lexer": "ipython3",
   "version": "3.8.8"
  }
 },
 "nbformat": 4,
 "nbformat_minor": 4
}
